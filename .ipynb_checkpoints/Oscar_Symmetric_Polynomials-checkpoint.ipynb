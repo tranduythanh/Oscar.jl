{
 "cells": [
  {
   "cell_type": "code",
   "execution_count": 1,
   "id": "73ce884d-88d4-4097-9eec-410ce482b0c1",
   "metadata": {},
   "outputs": [
    {
     "name": "stdout",
     "output_type": "stream",
     "text": [
      " -----    -----    -----      -      -----   \n",
      "|     |  |     |  |     |    | |    |     |  \n",
      "|     |  |        |         |   |   |     |  \n",
      "|     |   -----   |        |     |  |-----   \n",
      "|     |        |  |        |-----|  |   |    \n",
      "|     |  |     |  |     |  |     |  |    |   \n",
      " -----    -----    -----   -     -  -     -  \n",
      "\n",
      "...combining (and extending) ANTIC, GAP, Polymake and Singular\n",
      "Version\u001b[32m 0.13.0 \u001b[39m... \n",
      " ... which comes with absolutely no warranty whatsoever\n",
      "Type: '?Oscar' for more information\n",
      "(c) 2019-2023 by The OSCAR Development Team\n"
     ]
    }
   ],
   "source": [
    "using Oscar"
   ]
  },
  {
   "cell_type": "code",
   "execution_count": 2,
   "id": "de3dde6f-acd1-451b-89cf-7d413edaba5e",
   "metadata": {},
   "outputs": [
    {
     "data": {
      "text/plain": [
       "schur (generic function with 4 methods)"
      ]
     },
     "execution_count": 2,
     "metadata": {},
     "output_type": "execute_result"
    }
   ],
   "source": [
    "function p(k::Int, n::Int) # power sum symmetric polynomial\n",
    "    @req n >= 0 \"n >= 0 required\"\n",
    "    R, _ = polynomial_ring(ZZ, n, cached = false)\n",
    "    return p(R, k, n)\n",
    "end\n",
    "\n",
    "function p(R::ZZMPolyRing, k::Int, n::Int)\n",
    "    x = gens(R)[1:n]\n",
    "    return sum(x[i]^k for i in 1:n)\n",
    "end\n",
    "\n",
    "function e(k::Int,n::Int) # elementary symmetric polynomial\n",
    "    @req n >= 0 \"n >= 0 required\"\n",
    "    R, _ = polynomial_ring(ZZ, n, cached = false)\n",
    "    return e(R, k, n)\n",
    "end\n",
    "\n",
    "function e(R::ZZMPolyRing, k::Int, n::Int)\n",
    "    return schur_polynomial(R, partitions(k)[length(partitions(k))], n) #schur_polynomial in Oscar \n",
    "end\n",
    "\n",
    "function h(k::Int, n::Int) # complete homogeneous symmetric polynomial\n",
    "    @req n >= 0 \"n >= 0 required\"\n",
    "    R, _ = polynomial_ring(ZZ, n, cached = false)\n",
    "    return h(R, k, n)\n",
    "end\n",
    "\n",
    "function h(R::ZZMPolyRing, k::Int, n::Int)\n",
    "    return schur_polynomial(R, partition(k), n)\n",
    "end\n",
    "\n",
    "function schur(lambda::Vector{Int}, n::Int = length(lambda)) # Schur polynomial\n",
    "    R, _ = polynomial_ring(ZZ, n, cached = false)\n",
    "    return schur(R, lambda, n)\n",
    "end\n",
    "\n",
    "function schur(R::ZZMPolyRing, lambda::Vector{Int}, n::Int = length(lambda))\n",
    "    return schur_polynomial(R, partition(lambda), n)\n",
    "end"
   ]
  },
  {
   "cell_type": "code",
   "execution_count": 3,
   "id": "db8ba6d0-87e5-4c5c-a4ef-60f71f6b01b1",
   "metadata": {},
   "outputs": [
    {
     "data": {
      "text/plain": [
       "littlewood_richardson_rule (generic function with 2 methods)"
      ]
     },
     "execution_count": 3,
     "metadata": {},
     "output_type": "execute_result"
    }
   ],
   "source": [
    "function schur_expansion(f) # expand the symmetric polynomial as a linear combination of Schur polynomials\n",
    "    R = parent(f)\n",
    "    n = length(vars(f))  # Number of variables\n",
    "    result = []  # List to store the results\n",
    "    while f != zero(f)\n",
    "        l = filter!(x -> x != 0, collect(exponents(f))[end])\n",
    "        c = collect(coefficients(f))[end]\n",
    "        push!(result, (c, reverse(l)))\n",
    "        f -= c * schur(R, reverse(l), n)\n",
    "    end\n",
    "    return result\n",
    "end\n",
    "\n",
    "function pieri_rule(k::Int, lambda::Vector{Int}) # Pieri rule\n",
    "    n = 1 + length(lambda)\n",
    "    R, _ = polynomial_ring(ZZ, n, cached = false)\n",
    "    return schur_expansion(h(R, k, n) * schur(R, lambda, n))\n",
    "end\n",
    "\n",
    "function dual_pieri_rule(k::Int, lambda::Vector{Int}) # dual Pieri rule\n",
    "    n = k + length(lambda)\n",
    "    R, _ = polynomial_ring(ZZ, n, cached = false)\n",
    "    return schur_expansion(e(R, k, n) * schur(R, lambda, n))\n",
    "end\n",
    "\n",
    "function murnaghan_nakayama_rule(k::Int, lambda::Vector{Int}) # Murnaghan-Nakayama rule\n",
    "    n = k + length(lambda)\n",
    "    R, _ = polynomial_ring(ZZ, n, cached = false)\n",
    "    return schur_expansion(p(R, k, n) * schur(R, lambda, n))\n",
    "end\n",
    "\n",
    "function littlewood_richardson_rule(lambda::Vector{Int}, mu::Vector{Int}, n::Int=length(lambda)+length(mu))\n",
    "    # Littlewood-Richardson rule\n",
    "    R, _ = polynomial_ring(ZZ, n, cached = false)\n",
    "    return schur_expansion(schur(R, lambda, n) * schur(R, mu, n))\n",
    "end"
   ]
  },
  {
   "cell_type": "code",
   "execution_count": 4,
   "id": "8843e9d9-f7f6-4052-b075-d9a3463e7c2c",
   "metadata": {},
   "outputs": [
    {
     "data": {
      "text/plain": [
       "grothendieck_polynomial_bf (generic function with 2 methods)"
      ]
     },
     "execution_count": 4,
     "metadata": {},
     "output_type": "execute_result"
    }
   ],
   "source": [
    "function grothendieck(lambda::Vector{Int}, n::Int = length(lambda)) \n",
    "    # (symmetric, Grassmann) Grothendieck polynomial\n",
    "    R, _ = polynomial_ring(ZZ, n, cached = false)\n",
    "    return grothendieck(R, lambda, n)\n",
    "end\n",
    "\n",
    "function grothendieck(R::ZZMPolyRing, lambda::Vector{Int}, n::Int = length(lambda))\n",
    "    if n == 0 || n < length(lambda)\n",
    "        if isempty(lambda)\n",
    "            return one(R)\n",
    "        else\n",
    "            return zero(R)\n",
    "        end\n",
    "    end\n",
    "    @req n <= nvars(R) \"n <= nvars(R) required\"\n",
    "    return grothendieck_polynomial_bf(R, lambda, n) #bialternant formula\n",
    "end\n",
    "\n",
    "function grothendieck_polynomial_bf(R::ZZMPolyRing, lambda::Vector{Int}, n::Int = length(lambda))\n",
    "    @req n >= length(lambda) \"number of variables must be at least the length of the partition\"\n",
    "    while length(lambda) < n\n",
    "        push!(lambda, 0)  # Append zeros to the partition if needed\n",
    "    end\n",
    "    x = gens(R)[1:n]\n",
    "    A = zero_matrix(R, n, n)\n",
    "    for i = 1:n\n",
    "        for j = 1:n\n",
    "            A[i,j] = x[i]^(lambda[j]+n-j)*(1-x[i])^(j-1)\n",
    "        end\n",
    "    end\n",
    "    sp = det(A)\n",
    "    # divide by the product\n",
    "    for i = 1:n - 1\n",
    "        for j = i + 1:n\n",
    "            sp = divexact(sp, x[i] - x[j])\n",
    "        end\n",
    "    end\n",
    "    return sp\n",
    "end"
   ]
  },
  {
   "cell_type": "code",
   "execution_count": 15,
   "id": "b5fdbd21-a8da-4df4-b6f6-914ad4889380",
   "metadata": {},
   "outputs": [
    {
     "data": {
      "text/plain": [
       "G_littlewood_richardson_rule (generic function with 2 methods)"
      ]
     },
     "execution_count": 15,
     "metadata": {},
     "output_type": "execute_result"
    }
   ],
   "source": [
    "function grothendieck_expansion(f) # expand a symmetric polynomial as a linear combination of (symmetric) Grothenideck polynomials\n",
    "    R = parent(f)\n",
    "    n = length(vars(f))\n",
    "    result = []\n",
    "    while f != zero(f)\n",
    "        l = filter!(x -> x != 0, collect(exponents(f))[end])\n",
    "        c = collect(coefficients(f))[end]\n",
    "        push!(result, (c, reverse(l)))\n",
    "        f -= c * grothendieck(R, reverse(l), n)\n",
    "    end\n",
    "    return result\n",
    "end\n",
    "\n",
    "function G_pieri_rule(k::Int, lambda::Vector{Int}) # K-theoretic Pieri rule\n",
    "    n = 1 + length(lambda)\n",
    "    R, _ = polynomial_ring(ZZ, n, cached = false)\n",
    "    return grothendieck_expansion(h(R, k, n) * grothendieck(R, lambda, n))\n",
    "end\n",
    "\n",
    "function dual_G_pieri_rule(k::Int, lambda::Vector{Int}) # dual K-theoretic Pieri rule\n",
    "    n = k + length(lambda)\n",
    "    R, _ = polynomial_ring(ZZ, n, cached = false)\n",
    "    return grothendieck_expansion(e(R, k, n) * grothendieck(R, lambda, n))\n",
    "end\n",
    "\n",
    "function G_murnaghan_nakayama_rule(k::Int, lambda::Vector{Int}) # K-theoretic Murnaghan-Nakayama rule\n",
    "    n = k + length(lambda)\n",
    "    R, _ = polynomial_ring(ZZ, n, cached = false)\n",
    "    return grothendieck_expansion(p(R, k, n) * grothendieck(R, lambda, n))\n",
    "end\n",
    "\n",
    "function G_littlewood_richardson_rule(lambda::Vector{Int}, mu::Vector{Int}, n::Int=length(lambda)+length(mu))\n",
    "    # Littlewood-Richardson rule\n",
    "    R, _ = polynomial_ring(ZZ, n, cached = false)\n",
    "    return grothendieck_expansion(grothendieck(R, lambda, n) * grothendieck(R, mu, n))\n",
    "end"
   ]
  },
  {
   "cell_type": "code",
   "execution_count": 7,
   "id": "187c3411-55ad-414b-8bcb-e0c8584c5644",
   "metadata": {},
   "outputs": [
    {
     "data": {
      "text/plain": [
       "dual_grothendieck_polynomial_bf (generic function with 2 methods)"
      ]
     },
     "execution_count": 7,
     "metadata": {},
     "output_type": "execute_result"
    }
   ],
   "source": [
    "function dual_grothendieck(lambda::Vector{Int}, n::Int = length(lambda))\n",
    "    # dual stable Grothendieck polynomial\n",
    "    R, _ = polynomial_ring(ZZ, n, cached = false)\n",
    "    return dual_grothendieck(R, lambda, n)\n",
    "end\n",
    "\n",
    "function dual_grothendieck(R::ZZMPolyRing, lambda::Vector{Int}, n::Int = length(lambda))\n",
    "    if n == 0 || n < length(lambda)\n",
    "        if isempty(lambda)\n",
    "            return one(R)\n",
    "        else\n",
    "            return zero(R)\n",
    "        end\n",
    "    end\n",
    "    @req n <= nvars(R) \"n <= nvars(R) required\"\n",
    "    return dual_grothendieck_polynomial_bf(R, lambda, n) #bialternant formula\n",
    "end\n",
    "\n",
    "function dual_grothendieck_polynomial_bf(R::ZZMPolyRing, lambda::Vector{Int}, n::Int = length(lambda))\n",
    "    @req n >= length(lambda) \"number of variables must be at least the length of the partition\"\n",
    "    while length(lambda) < n\n",
    "        push!(lambda, 0)  # Append zeros to the partition if needed\n",
    "    end\n",
    "    x = gens(R)[1:n]\n",
    "    A = zero_matrix(R,n,n)\n",
    "    for j = 1:n\n",
    "        A[1,j] = x[j]^(lambda[1]+n-1)\n",
    "        for i = 2:n\n",
    "            A[i,j] = sum(binomial(i+k-2,k)*x[j]^(lambda[i] + n - i - k) for k = 0:(lambda[i] + n - i))\n",
    "        end\n",
    "    end\n",
    "    sp = det(A)\n",
    "    # divide by the product\n",
    "    for i = 1:n - 1\n",
    "        for j = i + 1:n\n",
    "            sp = divexact(sp, x[i] - x[j])\n",
    "        end\n",
    "    end\n",
    "    return sp\n",
    "end"
   ]
  },
  {
   "cell_type": "code",
   "execution_count": 6,
   "id": "b93f22f6-943b-487c-a75d-47cfc1ed760a",
   "metadata": {},
   "outputs": [
    {
     "data": {
      "text/plain": [
       "g_littlewood_richardson_rule (generic function with 2 methods)"
      ]
     },
     "execution_count": 6,
     "metadata": {},
     "output_type": "execute_result"
    }
   ],
   "source": [
    "function dual_grothendieck_expansion(f)\n",
    "    R = parent(f)\n",
    "    n = length(vars(f))\n",
    "    result = []\n",
    "    while f != zero(f)\n",
    "        l = filter!(x -> x != 0, reverse(collect(exponents(f))[1]))\n",
    "        c = collect(coefficients(f))[1]\n",
    "        push!(result, (c, reverse(l)))\n",
    "        f -= c * dual_grothendieck(R, reverse(l), n)\n",
    "    end\n",
    "    return result\n",
    "end\n",
    "\n",
    "function g_pieri_rule(k::Int, lambda::Vector{Int})\n",
    "    n = 1 + length(lambda)\n",
    "    R, _ = polynomial_ring(ZZ, n, cached = false)\n",
    "    return dual_grothendieck_expansion(h(R, k, n) * dual_grothendieck(R, lambda, n))\n",
    "end\n",
    "\n",
    "function dual_g_pieri_rule(k::Int, lambda::Vector{Int})\n",
    "    n = k + length(lambda)\n",
    "    R, _ = polynomial_ring(ZZ, n, cached = false)\n",
    "    return dual_grothendieck_expansion(e(R, k, n) * dual_grothendieck(R, lambda, n))\n",
    "end\n",
    "\n",
    "function g_murnaghan_nakayama_rule(k::Int, lambda::Vector{Int})\n",
    "    n = k + length(lambda)\n",
    "    R, _ = polynomial_ring(ZZ, n, cached = false)\n",
    "    return dual_grothendieck_expansion(p(R, k, n) * dual_grothendieck(R, lambda, n))\n",
    "end\n",
    "\n",
    "function g_littlewood_richardson_rule(lambda::Vector{Int}, mu::Vector{Int}, n::Int=length(lambda)+length(mu))\n",
    "    # Littlewood-Richardson rule\n",
    "    R, _ = polynomial_ring(ZZ, n, cached = false)\n",
    "    return dual_grothendieck_expansion(dual_grothendieck(R, lambda, n) * dual_grothendieck(R, mu, n))\n",
    "end"
   ]
  },
  {
   "cell_type": "code",
   "execution_count": 25,
   "id": "20525dfc-964f-4e8f-a553-99aecc5b7fd2",
   "metadata": {},
   "outputs": [
    {
     "data": {
      "text/plain": [
       "4-element Vector{Any}:\n",
       " (1, [3, 2, 1])\n",
       " (1, [3, 1, 1, 1])\n",
       " (1, [2, 2, 1, 1])\n",
       " (1, [2, 1, 1, 1, 1])"
      ]
     },
     "execution_count": 25,
     "metadata": {},
     "output_type": "execute_result"
    }
   ],
   "source": [
    "dual_pieri_rule(3,[2,1])"
   ]
  },
  {
   "cell_type": "code",
   "execution_count": 27,
   "id": "7c8da165-d694-484a-8f31-8e091758da4a",
   "metadata": {},
   "outputs": [
    {
     "data": {
      "text/plain": [
       "8-element Vector{Any}:\n",
       " (1, [3, 2, 1])\n",
       " (1, [3, 1, 1, 1])\n",
       " (1, [2, 2, 1, 1])\n",
       " (1, [2, 1, 1, 1, 1])\n",
       " (1, [3, 2, 1, 1])\n",
       " (2, [3, 1, 1, 1, 1])\n",
       " (2, [2, 2, 1, 1, 1])\n",
       " (1, [3, 2, 1, 1, 1])"
      ]
     },
     "execution_count": 27,
     "metadata": {},
     "output_type": "execute_result"
    }
   ],
   "source": [
    "dual_G_pieri_rule(3,[2,1])"
   ]
  },
  {
   "cell_type": "code",
   "execution_count": 29,
   "id": "718ff1cc-07cf-4535-910d-d5cf25c084e1",
   "metadata": {},
   "outputs": [
    {
     "data": {
      "text/plain": [
       "12-element Vector{Any}:\n",
       " (1, [3, 2, 1])\n",
       " (1, [3, 1, 1, 1])\n",
       " (1, [2, 2, 1, 1])\n",
       " (1, [2, 1, 1, 1, 1])\n",
       " (-2, [3, 2])\n",
       " (-3, [3, 1, 1])\n",
       " (-3, [2, 2, 1])\n",
       " (-4, [2, 1, 1, 1])\n",
       " (3, [3, 1])\n",
       " (3, [2, 2])\n",
       " (6, [2, 1, 1])\n",
       " (-4, [2, 1])"
      ]
     },
     "execution_count": 29,
     "metadata": {},
     "output_type": "execute_result"
    }
   ],
   "source": [
    "dual_g_pieri_rule(3,[2,1])"
   ]
  },
  {
   "cell_type": "code",
   "execution_count": 30,
   "id": "fc3c89a3-bd6f-4a52-a518-d03a23df2e25",
   "metadata": {},
   "outputs": [
    {
     "data": {
      "text/plain": [
       "10-element Vector{Any}:\n",
       " (1, [5, 1])\n",
       " (-1, [3, 3])\n",
       " (-1, [2, 2, 2])\n",
       " (1, [2, 1, 1, 1, 1])\n",
       " (1, [3, 2])\n",
       " (1, [2, 2, 1])\n",
       " (-3, [2, 1, 1, 1])\n",
       " (1, [2, 2])\n",
       " (3, [2, 1, 1])\n",
       " (-2, [2, 1])"
      ]
     },
     "execution_count": 30,
     "metadata": {},
     "output_type": "execute_result"
    }
   ],
   "source": [
    "g_murnaghan_nakayama_rule(3,[2,1])"
   ]
  },
  {
   "cell_type": "code",
   "execution_count": 8,
   "id": "56c997b0-ddec-466a-9e8f-49e2da8e544b",
   "metadata": {},
   "outputs": [
    {
     "data": {
      "text/plain": [
       "16-element Vector{Any}:\n",
       " (1, [4, 2])\n",
       " (1, [3, 3])\n",
       " (1, [4, 1, 1])\n",
       " (2, [3, 2, 1])\n",
       " (1, [2, 2, 2])\n",
       " (1, [3, 1, 1, 1])\n",
       " (1, [2, 2, 1, 1])\n",
       " (-1, [4, 1])\n",
       " (-3, [3, 2])\n",
       " (-3, [3, 1, 1])\n",
       " (-3, [2, 2, 1])\n",
       " (-1, [2, 1, 1, 1])\n",
       " (2, [3, 1])\n",
       " (1, [2, 2])\n",
       " (2, [2, 1, 1])\n",
       " (-1, [2, 1])"
      ]
     },
     "execution_count": 8,
     "metadata": {},
     "output_type": "execute_result"
    }
   ],
   "source": [
    "g_littlewood_richardson_rule([2,1],[2,1])"
   ]
  },
  {
   "cell_type": "code",
   "execution_count": 9,
   "id": "827c6702-4383-4d2d-8d2e-870ee652e3cf",
   "metadata": {},
   "outputs": [
    {
     "data": {
      "text/plain": [
       "25-element Vector{Any}:\n",
       " (1, [4, 2])\n",
       " (1, [4, 1, 1])\n",
       " (1, [3, 3])\n",
       " (2, [3, 2, 1])\n",
       " (1, [3, 1, 1, 1])\n",
       " (1, [2, 2, 2])\n",
       " (1, [2, 2, 1, 1])\n",
       " (-1, [4, 3])\n",
       " (-3, [4, 2, 1])\n",
       " (-1, [4, 1, 1, 1])\n",
       " (-2, [3, 3, 1])\n",
       " (-2, [3, 2, 2])\n",
       " (-3, [3, 2, 1, 1])\n",
       " (-1, [2, 2, 2, 1])\n",
       " (2, [4, 3, 1])\n",
       " (1, [4, 2, 2])\n",
       " (2, [4, 2, 1, 1])\n",
       " (1, [3, 3, 2])\n",
       " (1, [3, 3, 1, 1])\n",
       " (2, [3, 2, 2, 1])\n",
       " (-1, [4, 3, 2])\n",
       " (-1, [4, 3, 1, 1])\n",
       " (-1, [4, 2, 2, 1])\n",
       " (-1, [3, 3, 2, 1])\n",
       " (1, [4, 3, 2, 1])"
      ]
     },
     "execution_count": 9,
     "metadata": {},
     "output_type": "execute_result"
    }
   ],
   "source": [
    "G_littlewood_richardson_rule([2,1],[2,1])"
   ]
  },
  {
   "cell_type": "code",
   "execution_count": 10,
   "id": "00adfc81-687e-4e6c-af44-215102519f88",
   "metadata": {},
   "outputs": [
    {
     "data": {
      "text/plain": [
       "7-element Vector{Any}:\n",
       " (1, [4, 2])\n",
       " (1, [4, 1, 1])\n",
       " (1, [3, 3])\n",
       " (2, [3, 2, 1])\n",
       " (1, [3, 1, 1, 1])\n",
       " (1, [2, 2, 2])\n",
       " (1, [2, 2, 1, 1])"
      ]
     },
     "execution_count": 10,
     "metadata": {},
     "output_type": "execute_result"
    }
   ],
   "source": [
    "littlewood_richardson_rule([2,1],[2,1])"
   ]
  },
  {
   "cell_type": "code",
   "execution_count": 11,
   "id": "a5edb76d-3492-4ee2-86e4-a37124ed7086",
   "metadata": {},
   "outputs": [
    {
     "data": {
      "text/plain": [
       "4-element Vector{Any}:\n",
       " (1, [5, 1])\n",
       " (-1, [3, 3])\n",
       " (-1, [2, 2, 2])\n",
       " (1, [2, 1, 1, 1, 1])"
      ]
     },
     "execution_count": 11,
     "metadata": {},
     "output_type": "execute_result"
    }
   ],
   "source": [
    "murnaghan_nakayama_rule(3,[2,1])"
   ]
  },
  {
   "cell_type": "code",
   "execution_count": 12,
   "id": "70103442-3b27-41ed-b58e-5f6196d6b262",
   "metadata": {},
   "outputs": [
    {
     "data": {
      "text/plain": [
       "27-element Vector{Any}:\n",
       " (1, [5, 1])\n",
       " (-1, [3, 3])\n",
       " (-1, [2, 2, 2])\n",
       " (1, [2, 1, 1, 1, 1])\n",
       " (1, [4, 3])\n",
       " (-2, [2, 2, 2, 1])\n",
       " (1, [4, 4])\n",
       " (1, [3, 3, 2])\n",
       " (-2, [2, 2, 2, 2])\n",
       " (-3, [2, 2, 2, 1, 1])\n",
       " (1, [3, 3, 3])\n",
       " (1, [3, 3, 2, 1])\n",
       " (-3, [2, 2, 2, 2, 1])\n",
       " ⋮\n",
       " (1, [3, 3, 2, 1, 1])\n",
       " (-3, [2, 2, 2, 2, 2])\n",
       " (1, [3, 3, 3, 2])\n",
       " (1, [3, 3, 3, 1, 1])\n",
       " (1, [3, 3, 2, 2, 1])\n",
       " (1, [3, 3, 3, 3])\n",
       " (1, [3, 3, 3, 2, 1])\n",
       " (1, [3, 3, 2, 2, 2])\n",
       " (1, [3, 3, 3, 3, 1])\n",
       " (1, [3, 3, 3, 2, 2])\n",
       " (1, [3, 3, 3, 3, 2])\n",
       " (1, [3, 3, 3, 3, 3])"
      ]
     },
     "execution_count": 12,
     "metadata": {},
     "output_type": "execute_result"
    }
   ],
   "source": [
    "G_murnaghan_nakayama_rule(3,[2,1])"
   ]
  }
 ],
 "metadata": {
  "kernelspec": {
   "display_name": "Julia 1.6.7",
   "language": "julia",
   "name": "julia-1.6"
  },
  "language_info": {
   "file_extension": ".jl",
   "mimetype": "application/julia",
   "name": "julia",
   "version": "1.6.7"
  }
 },
 "nbformat": 4,
 "nbformat_minor": 5
}
