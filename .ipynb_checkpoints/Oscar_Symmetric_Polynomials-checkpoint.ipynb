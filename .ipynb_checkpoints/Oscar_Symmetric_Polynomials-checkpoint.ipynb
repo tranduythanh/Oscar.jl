{
 "cells": [
  {
   "cell_type": "code",
   "execution_count": 1,
   "id": "73ce884d-88d4-4097-9eec-410ce482b0c1",
   "metadata": {},
   "outputs": [
    {
     "name": "stdout",
     "output_type": "stream",
     "text": [
      " -----    -----    -----      -      -----   \n",
      "|     |  |     |  |     |    | |    |     |  \n",
      "|     |  |        |         |   |   |     |  \n",
      "|     |   -----   |        |     |  |-----   \n",
      "|     |        |  |        |-----|  |   |    \n",
      "|     |  |     |  |     |  |     |  |    |   \n",
      " -----    -----    -----   -     -  -     -  \n",
      "\n",
      "...combining (and extending) ANTIC, GAP, Polymake and Singular\n",
      "Version\u001b[32m 0.13.0 \u001b[39m... \n",
      " ... which comes with absolutely no warranty whatsoever\n",
      "Type: '?Oscar' for more information\n",
      "(c) 2019-2023 by The OSCAR Development Team\n"
     ]
    }
   ],
   "source": [
    "using Oscar"
   ]
  },
  {
   "cell_type": "code",
   "execution_count": 2,
   "id": "3cb6baaa-e23a-4dd3-95bf-21e10c2439a2",
   "metadata": {},
   "outputs": [
    {
     "data": {
      "text/plain": [
       "Schur_polynomial_bf (generic function with 2 methods)"
      ]
     },
     "execution_count": 2,
     "metadata": {},
     "output_type": "execute_result"
    }
   ],
   "source": [
    "function Schur_polynomial(lambda::Vector{Int}, n::Int = length(lambda))\n",
    "    @req n >= 0 \"n >= 0 required\"\n",
    "    while length(lambda) < n\n",
    "        push!(lambda, 0)  # Append zeros to the partition if needed\n",
    "    end\n",
    "    R, _ = polynomial_ring(ZZ, n, cached = false)\n",
    "    return Schur_polynomial(R, lambda, n)\n",
    "end\n",
    "\n",
    "function Schur_polynomial(R::ZZMPolyRing, lambda::Vector{Int}, n::Int = length(lambda))\n",
    "    @req n >= 0 \"n >= 0 required\"\n",
    "    if n == 0 || n < length(lambda)\n",
    "        if isempty(lambda)\n",
    "            return one(R)\n",
    "        else\n",
    "            return zero(R)\n",
    "        end\n",
    "    end\n",
    "    @req n <= nvars(R) \"n <= nvars(R) required\"\n",
    "    return Schur_polynomial_bf(R, lambda, n) #bialternant formula\n",
    "end\n",
    "\n",
    "function Schur_polynomial_bf(R::ZZMPolyRing, lambda::Vector{Int}, n::Int = length(lambda))\n",
    "    @req n >= 0 \"n >= 0 required\"\n",
    "    while length(lambda) < n\n",
    "        push!(lambda, 0)  # Append zeros to the partition if needed\n",
    "    end\n",
    "    x = gens(R)[1:n]\n",
    "    A = zero_matrix(R,n,n)\n",
    "    for i = 1:n\n",
    "        for j = 1:n\n",
    "            A[i,j] = x[i]^(lambda[j]+n-j)\n",
    "        end\n",
    "    end\n",
    "    sp = det(A)\n",
    "    # divide by the product\n",
    "    for i = 1:n - 1\n",
    "        for j = i + 1:n\n",
    "            sp = divexact(sp, x[i] - x[j])\n",
    "        end\n",
    "    end\n",
    "    return sp\n",
    "end"
   ]
  },
  {
   "cell_type": "code",
   "execution_count": 3,
   "id": "5e894beb-de9f-4830-8100-530d64c53f7f",
   "metadata": {},
   "outputs": [
    {
     "data": {
      "text/plain": [
       "h (generic function with 2 methods)"
      ]
     },
     "execution_count": 3,
     "metadata": {},
     "output_type": "execute_result"
    }
   ],
   "source": [
    "function p(k::Int, n::Int)\n",
    "    @req n >= 0 \"n >= 0 required\"\n",
    "    R, _ = PolynomialRing(ZZ, n, cached = false)\n",
    "    return p(R, k, n)\n",
    "end\n",
    "\n",
    "function p(R::ZZMPolyRing, k::Int, n::Int)\n",
    "    x = gens(R)[1:n]\n",
    "    return sum(x[i]^k for i in 1:n)\n",
    "end\n",
    "\n",
    "function e(k::Int,n::Int)\n",
    "    @req n >= 0 \"n >= 0 required\"\n",
    "    R, _ = PolynomialRing(ZZ, n, cached = false)\n",
    "    return e(R,k,n)\n",
    "end\n",
    "\n",
    "function e(R::ZZMPolyRing, k::Int, n::Int)\n",
    "    p = partitions(k)[length(partitions(k))]\n",
    "    return schur_polynomial(R, p, n)\n",
    "end\n",
    "\n",
    "function h(k::Int, n::Int)\n",
    "    @req n >= 0 \"n >= 0 required\"\n",
    "    R, _ = PolynomialRing(ZZ, n, cached = false)\n",
    "    return h(R, k, n)\n",
    "end\n",
    "\n",
    "function h(R::ZZMPolyRing, k::Int, n::Int)\n",
    "    p = partition(k)\n",
    "    return schur_polynomial(R, p, n)\n",
    "end"
   ]
  },
  {
   "cell_type": "code",
   "execution_count": 20,
   "id": "1d19eee0-6e88-4eaa-b6cc-042e02abde4d",
   "metadata": {},
   "outputs": [
    {
     "data": {
      "text/plain": [
       "x1^3 + x2^3 + x3^3"
      ]
     },
     "execution_count": 20,
     "metadata": {},
     "output_type": "execute_result"
    }
   ],
   "source": [
    "p(3,3)"
   ]
  },
  {
   "cell_type": "code",
   "execution_count": 5,
   "id": "8843e9d9-f7f6-4052-b075-d9a3463e7c2c",
   "metadata": {},
   "outputs": [
    {
     "data": {
      "text/plain": [
       "Grothendieck_polynomial_bf (generic function with 2 methods)"
      ]
     },
     "execution_count": 5,
     "metadata": {},
     "output_type": "execute_result"
    }
   ],
   "source": [
    "function Grothendieck_polynomial(lambda::Vector{Int}, n::Int = length(lambda))\n",
    "    @req n >= 0 \"n >= 0 required\"\n",
    "    while length(lambda) < n\n",
    "        push!(lambda, 0)  # Append zeros to the partition if needed\n",
    "    end\n",
    "    R, _ = polynomial_ring(ZZ, n, cached = false)\n",
    "    return Grothendieck_polynomial(R, lambda, n)\n",
    "end\n",
    "\n",
    "function Grothendieck_polynomial(R::ZZMPolyRing, lambda::Vector{Int}, n::Int = length(lambda))\n",
    "    @req n >= 0 \"n >= 0 required\"\n",
    "    if n == 0 || n < length(lambda)\n",
    "        if isempty(lambda)\n",
    "            return one(R)\n",
    "        else\n",
    "            return zero(R)\n",
    "        end\n",
    "    end\n",
    "    @req n <= nvars(R) \"n <= nvars(R) required\"\n",
    "    return Grothendieck_polynomial_bf(R, lambda, n) #bialternant formula\n",
    "end\n",
    "\n",
    "function Grothendieck_polynomial_bf(R::ZZMPolyRing, lambda::Vector{Int}, n::Int = length(lambda))\n",
    "    @req n > 0 \"number of variables must be > 0\"\n",
    "    @req n >= length(lambda) \"number of variables must be at least the length of the partition\"\n",
    "    while length(lambda) < n\n",
    "        push!(lambda, 0)  # Append zeros to the partition if needed\n",
    "    end\n",
    "    x = gens(R)[1:n]\n",
    "    A = zero_matrix(R,n,n)\n",
    "    for i = 1:n\n",
    "        for j = 1:n\n",
    "            A[i,j] = x[i]^(lambda[j]+n-j)*(1-x[i])^(j-1)\n",
    "        end\n",
    "    end\n",
    "    sp = det(A)\n",
    "    # divide by the product\n",
    "    for i = 1:n - 1\n",
    "        for j = i + 1:n\n",
    "            sp = divexact(sp, x[i] - x[j])\n",
    "        end\n",
    "    end\n",
    "    return sp\n",
    "end"
   ]
  },
  {
   "cell_type": "code",
   "execution_count": 6,
   "id": "187c3411-55ad-414b-8bcb-e0c8584c5644",
   "metadata": {},
   "outputs": [
    {
     "data": {
      "text/plain": [
       "dual_Grothendieck_polynomial_bf (generic function with 2 methods)"
      ]
     },
     "execution_count": 6,
     "metadata": {},
     "output_type": "execute_result"
    }
   ],
   "source": [
    "function dual_Grothendieck_polynomial(lambda::Vector{Int}, n::Int = length(lambda))\n",
    "    @req n >= 0 \"n >= 0 required\"\n",
    "    while length(lambda) < n\n",
    "        push!(lambda, 0)  # Append zeros to the partition if needed\n",
    "    end\n",
    "    R, _ = polynomial_ring(ZZ, n, cached = false)\n",
    "    return dual_Grothendieck_polynomial(R, lambda, n)\n",
    "end\n",
    "\n",
    "function dual_Grothendieck_polynomial(R::ZZMPolyRing, lambda::Vector{Int}, n::Int = length(lambda))\n",
    "    @req n >= 0 \"n >= 0 required\"\n",
    "    if n == 0 || n < length(lambda)\n",
    "        if isempty(lambda)\n",
    "            return one(R)\n",
    "        else\n",
    "            return zero(R)\n",
    "        end\n",
    "    end\n",
    "    @req n <= nvars(R) \"n <= nvars(R) required\"\n",
    "    return dual_Grothendieck_polynomial_bf(R, lambda, n) #bialternant formula\n",
    "end\n",
    "\n",
    "function dual_Grothendieck_polynomial_bf(R::ZZMPolyRing, lambda::Vector{Int}, n::Int = length(lambda))\n",
    "    @req n > 0 \"number of variables must be > 0\"\n",
    "    @req n >= length(lambda) \"number of variables must be at least the length of the partition\"\n",
    "    while length(lambda) < n\n",
    "        push!(lambda, 0)  # Append zeros to the partition if needed\n",
    "    end\n",
    "    x = gens(R)[1:n]\n",
    "    A = zero_matrix(R,n,n)\n",
    "    for j = 1:n\n",
    "        A[1,j] = x[j]^(lambda[1]+n-1)\n",
    "        for i = 2:n\n",
    "            A[i,j] = sum(binomial(i+k-2,k)*x[j]^(lambda[i] + n - i - k) for k = 0:(lambda[i] + n - i))\n",
    "        end\n",
    "    end\n",
    "    sp = det(A)\n",
    "    # divide by the product\n",
    "    for i = 1:n - 1\n",
    "        for j = i + 1:n\n",
    "            sp = divexact(sp, x[i] - x[j])\n",
    "        end\n",
    "    end\n",
    "    return sp\n",
    "end"
   ]
  },
  {
   "cell_type": "code",
   "execution_count": 7,
   "id": "7d4f16db-d774-49fd-89c6-a95cd8e0b22a",
   "metadata": {},
   "outputs": [
    {
     "data": {
      "text/plain": [
       "dual_Grothendieck_expansion (generic function with 1 method)"
      ]
     },
     "execution_count": 7,
     "metadata": {},
     "output_type": "execute_result"
    }
   ],
   "source": [
    "function Schur_expansion(f)\n",
    "    R = parent(f)\n",
    "    n = length(vars(f))  # Number of variables\n",
    "    result = []  # List to store the results\n",
    "    while f != zero(f)\n",
    "        l = collect(exponents(f))\n",
    "        c = collect(coefficients(f))\n",
    "        push!(result, (c[1], l[1]))\n",
    "        f -= c[1]*Schur_polynomial(R, l[1], n)\n",
    "    end\n",
    "    return result\n",
    "end\n",
    "\n",
    "function Grothendieck_expansion(f)\n",
    "    R = parent(f)\n",
    "    n = length(vars(f))\n",
    "    result = []\n",
    "    while f != zero(f)\n",
    "        l = collect(exponents(f))\n",
    "        c = collect(coefficients(f))\n",
    "        t = reverse(l[end])\n",
    "        push!(result, (c[end], t))\n",
    "        f -= c[end]*Grothendieck_polynomial(R, t, n)\n",
    "    end\n",
    "    return result\n",
    "end\n",
    "\n",
    "function dual_Grothendieck_expansion(f)\n",
    "    R = parent(f)\n",
    "    n = length(vars(f))\n",
    "    result = []\n",
    "    while f != zero(f)\n",
    "        l = collect(exponents(f))\n",
    "        c = collect(coefficients(f))\n",
    "        push!(result, (c[1], l[1]))\n",
    "        f -= c[1]*dual_Grothendieck_polynomial(R, l[1], n)\n",
    "    end\n",
    "    return result\n",
    "end"
   ]
  },
  {
   "cell_type": "code",
   "execution_count": 10,
   "id": "08cdaf40-9f93-4c7e-8b3a-8ec03fd1c9f7",
   "metadata": {},
   "outputs": [
    {
     "data": {
      "text/plain": [
       "1-element Vector{Any}:\n",
       " (1, [3, 0, 0, 0])"
      ]
     },
     "execution_count": 10,
     "metadata": {},
     "output_type": "execute_result"
    }
   ],
   "source": [
    "f = h(3,4)\n",
    "Schur_expansion(f)"
   ]
  },
  {
   "cell_type": "code",
   "execution_count": 12,
   "id": "5ceabc84-6d07-4c56-8610-18c692e03f0b",
   "metadata": {},
   "outputs": [
    {
     "data": {
      "text/plain": [
       "murnaghan_nakayama_rule (generic function with 1 method)"
      ]
     },
     "execution_count": 12,
     "metadata": {},
     "output_type": "execute_result"
    }
   ],
   "source": [
    "function pieri_rule(k::Int, lambda::Vector{Int})\n",
    "    n = 1 + length(lambda)\n",
    "    R, _ = polynomial_ring(ZZ, n, cached = false)\n",
    "    f = h(R,k,n)*Schur_polynomial(R,lambda,n)\n",
    "    return Schur_expansion(f)\n",
    "end\n",
    "\n",
    "function dual_pieri_rule(k::Int, lambda::Vector{Int})\n",
    "    n = k + length(lambda)\n",
    "    R, _ = polynomial_ring(ZZ, n, cached = false)\n",
    "    f = e(R,k,n)*Schur_polynomial(R,lambda,n)\n",
    "    return Schur_expansion(f)\n",
    "end\n",
    "\n",
    "function murnaghan_nakayama_rule(k::Int, lambda::Vector{Int})\n",
    "    n = k + length(lambda)\n",
    "    R, _ = polynomial_ring(ZZ, n, cached = false)\n",
    "    f = p(R,k,n)*Schur_polynomial(R,lambda,n)\n",
    "    return Schur_expansion(f)\n",
    "end"
   ]
  },
  {
   "cell_type": "code",
   "execution_count": 13,
   "id": "0a2daa6d-81e3-4ce9-a2a2-537b56f6071d",
   "metadata": {},
   "outputs": [
    {
     "data": {
      "text/plain": [
       "G_murnaghan_nakayama_rule (generic function with 1 method)"
      ]
     },
     "execution_count": 13,
     "metadata": {},
     "output_type": "execute_result"
    }
   ],
   "source": [
    "function G_pieri_rule(k::Int, lambda::Vector{Int})\n",
    "    n = k + length(lambda)\n",
    "    R, _ = polynomial_ring(ZZ, n, cached = false)\n",
    "    f = h(R,k,n)*Grothendieck_polynomial(R,lambda,n)\n",
    "    return Grothendieck_expansion(f)\n",
    "end\n",
    "\n",
    "function dual_G_pieri_rule(k::Int, lambda::Vector{Int})\n",
    "    n = k + length(lambda)\n",
    "    R, _ = polynomial_ring(ZZ, n, cached = false)\n",
    "    f = e(R,k,n)*Grothendieck_polynomial(R,lambda,n)\n",
    "    return Grothendieck_expansion(f)\n",
    "end\n",
    "\n",
    "function G_murnaghan_nakayama_rule(k::Int, lambda::Vector{Int})\n",
    "    n = k + length(lambda)\n",
    "    R, _ = polynomial_ring(ZZ, n, cached = false)\n",
    "    f = p(R,k,n)*Grothendieck_polynomial(R,lambda,n)\n",
    "    return Grothendieck_expansion(f)\n",
    "end"
   ]
  },
  {
   "cell_type": "code",
   "execution_count": 14,
   "id": "6b60114c-f14d-4f83-9d01-64c7b051f403",
   "metadata": {},
   "outputs": [
    {
     "data": {
      "text/plain": [
       "g_murnaghan_nakayama_rule (generic function with 1 method)"
      ]
     },
     "execution_count": 14,
     "metadata": {},
     "output_type": "execute_result"
    }
   ],
   "source": [
    "function g_pieri_rule(k::Int, lambda::Vector{Int})\n",
    "    n = 1 + length(lambda)\n",
    "    R, _ = polynomial_ring(ZZ, n, cached = false)\n",
    "    f = h(R,k,n)*dual_Grothendieck_polynomial(R,lambda,n)\n",
    "    return dual_Grothendieck_expansion(f)\n",
    "end\n",
    "\n",
    "function dual_g_pieri_rule(k::Int, lambda::Vector{Int})\n",
    "    n = k + length(lambda)\n",
    "    R, _ = polynomial_ring(ZZ, n, cached = false)\n",
    "    f = e(R,k,n)*dual_Grothendieck_polynomial(R,lambda,n)\n",
    "    return dual_Grothendieck_expansion(f)\n",
    "end\n",
    "\n",
    "function g_murnaghan_nakayama_rule(k::Int, lambda::Vector{Int})\n",
    "    n = k + length(lambda)\n",
    "    R, _ = polynomial_ring(ZZ, n, cached = false)\n",
    "    f = p(R,k,n)*dual_Grothendieck_polynomial(R,lambda,n)\n",
    "    return dual_Grothendieck_expansion(f)\n",
    "end"
   ]
  },
  {
   "cell_type": "code",
   "execution_count": 15,
   "id": "7dcc1423-200d-4b25-98a3-d212a94013e3",
   "metadata": {},
   "outputs": [
    {
     "data": {
      "text/plain": [
       "g_mult (generic function with 2 methods)"
      ]
     },
     "execution_count": 15,
     "metadata": {},
     "output_type": "execute_result"
    }
   ],
   "source": [
    "function mult(lambda::Vector{Int}, mu::Vector{Int}, n::Int=length(lambda)+length(mu))\n",
    "    R, _ = polynomial_ring(ZZ, n, cached = false)\n",
    "    f = Schur_polynomial(R,lambda,n)*Schur_polynomial(R,mu,n)\n",
    "    return Schur_expansion(f)\n",
    "end\n",
    "\n",
    "function G_mult(lambda::Vector{Int}, mu::Vector{Int}, n::Int=length(lambda)+length(mu))\n",
    "    R, _ = polynomial_ring(ZZ, n, cached = false)\n",
    "    f = Grothendieck_polynomial(R,lambda,n)*Grothendieck_polynomial(R,mu,n)\n",
    "    return Grothendieck_expansion(f)\n",
    "end\n",
    "\n",
    "function g_mult(lambda::Vector{Int}, mu::Vector{Int}, n::Int=length(lambda)+length(mu))\n",
    "    R, _ = polynomial_ring(ZZ, n, cached = false)\n",
    "    f = dual_Grothendieck_polynomial(R,lambda,n)*dual_Grothendieck_polynomial(R,mu,n)\n",
    "    return dual_Grothendieck_expansion(f)\n",
    "end"
   ]
  },
  {
   "cell_type": "code",
   "execution_count": 16,
   "id": "ce0792a9-8306-44ae-af00-fd656d1e662d",
   "metadata": {},
   "outputs": [
    {
     "data": {
      "text/plain": [
       "8-element Vector{Any}:\n",
       " (1, [3, 2, 0, 0])\n",
       " (1, [3, 1, 1, 0])\n",
       " (1, [2, 2, 1, 0])\n",
       " (1, [2, 1, 1, 1])\n",
       " (-2, [3, 2, 1, 0])\n",
       " (-1, [3, 1, 1, 1])\n",
       " (-1, [2, 2, 1, 1])\n",
       " (1, [3, 2, 1, 1])"
      ]
     },
     "execution_count": 16,
     "metadata": {},
     "output_type": "execute_result"
    }
   ],
   "source": [
    "G_mult([1,1],[2,1])"
   ]
  },
  {
   "cell_type": "code",
   "execution_count": 17,
   "id": "fc2b7162-538b-4975-bc5c-b797baa24e40",
   "metadata": {},
   "outputs": [
    {
     "data": {
      "text/plain": [
       "7-element Vector{Any}:\n",
       " (1, [4, 2, 0, 0])\n",
       " (1, [3, 3, 0, 0])\n",
       " (1, [4, 1, 1, 0])\n",
       " (2, [3, 2, 1, 0])\n",
       " (1, [2, 2, 2, 0])\n",
       " (1, [3, 1, 1, 1])\n",
       " (1, [2, 2, 1, 1])"
      ]
     },
     "execution_count": 17,
     "metadata": {},
     "output_type": "execute_result"
    }
   ],
   "source": [
    "mult([2,1],[2,1])"
   ]
  },
  {
   "cell_type": "code",
   "execution_count": 18,
   "id": "64848b59-111d-48f4-be73-c7e32c9c416b",
   "metadata": {},
   "outputs": [
    {
     "data": {
      "text/plain": [
       "es (generic function with 1 method)"
      ]
     },
     "execution_count": 18,
     "metadata": {},
     "output_type": "execute_result"
    }
   ],
   "source": [
    "function es(m, j)\n",
    "    # Tạo vành đa thức với m biến\n",
    "    R, x = PolynomialRing(ZZ, m, :x)\n",
    "    return elementary_symmetric_polynomial(R, x, j)\n",
    "end"
   ]
  },
  {
   "cell_type": "code",
   "execution_count": 19,
   "id": "39779635-d5bb-4033-80f2-69dffc71de46",
   "metadata": {},
   "outputs": [
    {
     "data": {
      "text/plain": [
       "7-element Vector{Any}:\n",
       " (1, [4, 2, 0, 0])\n",
       " (1, [3, 3, 0, 0])\n",
       " (1, [4, 1, 1, 0])\n",
       " (2, [3, 2, 1, 0])\n",
       " (1, [2, 2, 2, 0])\n",
       " (1, [3, 1, 1, 1])\n",
       " (1, [2, 2, 1, 1])"
      ]
     },
     "execution_count": 19,
     "metadata": {},
     "output_type": "execute_result"
    }
   ],
   "source": [
    "mult([2,1],[2,1])"
   ]
  },
  {
   "cell_type": "code",
   "execution_count": null,
   "id": "f4babe9d-e11e-40c7-82f2-ad34e21b3ff7",
   "metadata": {},
   "outputs": [],
   "source": []
  }
 ],
 "metadata": {
  "kernelspec": {
   "display_name": "Julia 1.6.7",
   "language": "julia",
   "name": "julia-1.6"
  },
  "language_info": {
   "file_extension": ".jl",
   "mimetype": "application/julia",
   "name": "julia",
   "version": "1.6.7"
  }
 },
 "nbformat": 4,
 "nbformat_minor": 5
}
